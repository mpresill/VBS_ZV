{
 "cells": [
  {
   "cell_type": "code",
   "execution_count": 2,
   "metadata": {
    "ExecuteTime": {
     "end_time": "2020-01-27T15:55:34.549451Z",
     "start_time": "2020-01-27T15:55:30.687858Z"
    },
    "scrolled": true
   },
   "outputs": [],
   "source": [
    "debug = True\n",
    "\n",
    "import ROOT as R\n",
    "\n",
    "if debug:\n",
    "    R.ROOT.EnableImplicitMT() # only for ROOT rdf\n",
    "\n",
    "import os\n",
    "from pprint import pprint\n",
    "import pandas as pd \n"
   ]
  },
  {
   "cell_type": "code",
   "execution_count": 3,
   "metadata": {
    "ExecuteTime": {
     "end_time": "2020-01-27T15:55:42.156713Z",
     "start_time": "2020-01-27T15:55:42.000084Z"
    }
   },
   "outputs": [
    {
     "name": "stdout",
     "output_type": "stream",
     "text": [
      "['Define', 'Filter', 'Histo1D', 'Histo2D', 'Histo3D', 'Profile1D', 'Profile2D', 'Profile3D', 'Count', 'Min', 'Max', 'Mean', 'Sum', 'Fill', 'Report', 'Graph']\n"
     ]
    }
   ],
   "source": [
    "import PyRDF\n",
    "if not debug:\n",
    "    PyRDF.use(\"spark\")\n",
    "PyRDF.include_headers(\"headers.hh\")\n",
    "\n",
    "print(PyRDF.current_backend.supported_operations)"
   ]
  },
  {
   "cell_type": "code",
   "execution_count": 4,
   "metadata": {
    "ExecuteTime": {
     "end_time": "2020-01-27T15:55:42.650335Z",
     "start_time": "2020-01-27T15:55:42.620148Z"
    }
   },
   "outputs": [],
   "source": [
    "# this is only for root rdf \"interactive\"\n",
    "if debug:\n",
    "    R.gInterpreter.ProcessLine(\".L headers.hh\")"
   ]
  },
  {
   "cell_type": "code",
   "execution_count": 4,
   "metadata": {
    "ExecuteTime": {
     "end_time": "2020-01-27T15:55:43.609661Z",
     "start_time": "2020-01-27T15:55:43.568687Z"
    }
   },
   "outputs": [],
   "source": [
    "# sample version\n",
    "version = \"v900\"\n",
    "\n",
    "# input: plot config tag\n",
    "config_dir = \"Full2018v6s5\"\n",
    "\n",
    "cut = \"res_sig_mjjincl\"\n",
    "#cut = \"boos_sig_mjjincl\"\n",
    "\n",
    "# selection\n",
    "#samples = [\"DATA\",\"VBS\", \"VBF-V\", \"Wjets\", \"singleTop\", \"ttbar\",  \"VV\",\"DY\",\"FakeQCD\", \"VVV\"]\n",
    "samples = [\"VBS\", \"top\", \"DY\", \"Wjets\", \"VV\", \"VBF-V\"]\n",
    "weights = [\"weight_\", \"XSWeight\"]\n",
    "\n",
    "# output: samples directory\n",
    "output_basedir = \"/eos/user/d/dmapelli/public/latino/\"\n",
    "output_dir = os.path.join(output_basedir, config_dir, cut, \"samples\", version)\n",
    "\n",
    "\n",
    "import os \n",
    "os.makedirs(output_dir, exist_ok=True)"
   ]
  },
  {
   "cell_type": "code",
   "execution_count": 5,
   "metadata": {},
   "outputs": [],
   "source": [
    "%load_ext autoreload"
   ]
  },
  {
   "cell_type": "code",
   "execution_count": 6,
   "metadata": {},
   "outputs": [],
   "source": [
    "%autoreload 2"
   ]
  },
  {
   "cell_type": "code",
   "execution_count": 7,
   "metadata": {},
   "outputs": [],
   "source": [
    "import latinos_rdf as lrdf"
   ]
  },
  {
   "cell_type": "code",
   "execution_count": 8,
   "metadata": {
    "ExecuteTime": {
     "end_time": "2020-01-27T15:55:44.433151Z",
     "start_time": "2020-01-27T15:55:44.391113Z"
    }
   },
   "outputs": [
    {
     "name": "stdout",
     "output_type": "stream",
     "text": [
      "['weight_', 'XSWeight', 'boos_sig_mjjincl_events', 'boos_sig_mjjincl_Lepton_eta', 'boos_sig_mjjincl_Lepton_pt', 'boos_sig_mjjincl_Lepton_flavour', 'boos_sig_mjjincl_PuppiMET', 'boos_sig_mjjincl_PuppiMET_phi', 'boos_sig_mjjincl_MET_pt', 'boos_sig_mjjincl_mjj_vbs', 'boos_sig_mjjincl_deltaeta_vbs', 'boos_sig_mjjincl_mjj_vjet', 'boos_sig_mjjincl_vjet_0_pt', 'boos_sig_mjjincl_vjet_1_pt', 'boos_sig_mjjincl_vbs_etaprod', 'boos_sig_mjjincl_vbs_0_pt', 'boos_sig_mjjincl_vbs_1_pt', 'boos_sig_mjjincl_vbs_0_eta', 'boos_sig_mjjincl_vbs_1_eta', 'boos_sig_mjjincl_vjet_0_eta', 'boos_sig_mjjincl_vjet_1_eta', 'boos_sig_mjjincl_deltaphi_vbs', 'boos_sig_mjjincl_vbs_index_0', 'boos_sig_mjjincl_vbs_index_1', 'boos_sig_mjjincl_vjet_index_0', 'boos_sig_mjjincl_vjet_index_1', 'boos_sig_mjjincl_Zvjets_0', 'boos_sig_mjjincl_Zvjets_1', 'boos_sig_mjjincl_Zlep', 'boos_sig_mjjincl_Asym_vbs', 'boos_sig_mjjincl_Asym_vjet', 'boos_sig_mjjincl_Mw_lep_reco', 'boos_sig_mjjincl_Mtw_lep', 'boos_sig_mjjincl_w_lep_pt', 'boos_sig_mjjincl_Mww', 'boos_sig_mjjincl_R_ww', 'boos_sig_mjjincl_R_mw', 'boos_sig_mjjincl_A_ww', 'boos_sig_mjjincl_Centr_vbs', 'boos_sig_mjjincl_Centr_ww', 'boos_sig_mjjincl_mll', 'boos_sig_mjjincl_nvtx', 'boos_sig_mjjincl_qgl']\n"
     ]
    }
   ],
   "source": [
    "config = lrdf.ConfigReader(config_dir, version)\n",
    "\n",
    "columns_MC = config.variables\n",
    "\n",
    "#columns_DATA = columns\n",
    "columns_MC = [ cut+\"_\"+c for c in columns_MC]\n",
    "\n",
    "columns_MC = weights + columns_MC\n",
    "\n",
    "print(columns_MC)"
   ]
  },
  {
   "cell_type": "code",
   "execution_count": 9,
   "metadata": {
    "ExecuteTime": {
     "end_time": "2020-01-27T15:55:48.632949Z",
     "start_time": "2020-01-27T15:55:45.354748Z"
    },
    "scrolled": false
   },
   "outputs": [
    {
     "name": "stdout",
     "output_type": "stream",
     "text": [
      "VBS\n",
      "top\n",
      "DY\n",
      "Wjets\n",
      "VV\n",
      "VBF-V\n"
     ]
    }
   ],
   "source": [
    "joblist = []\n",
    "\n",
    "for sample in samples:\n",
    "    print(sample)\n",
    "    if debug:\n",
    "        trees, nfiles = lrdf.build_dataframe(config_dir, version, sample, R, \"root\") # ROOT RDF \"interactive\"\n",
    "    else:\n",
    "        trees, nfiles = lrdf.build_dataframe(config_dir, version, sample, PyRDF , \"pyrdf\") # Spark\n",
    "    for tree, nfile in zip(trees,nfiles):\n",
    "        joblist.append((tree,nfile))\n",
    "        \n",
    "######## Now sort by number of files\n",
    "jobslist = sorted(joblist, key=lambda v: v[1], reverse=True)\n"
   ]
  },
  {
   "cell_type": "code",
   "execution_count": 10,
   "metadata": {
    "ExecuteTime": {
     "start_time": "2020-01-27T15:55:46.313Z"
    },
    "scrolled": false
   },
   "outputs": [
    {
     "name": "stdout",
     "output_type": "stream",
     "text": [
      "Tree: top\n",
      "name: supercut\n",
      "parent: None\n",
      "cut: (                   ( ( (abs(Lepton_pdgId[0])==11) && (Lepton_pt[0]>40) ) ||                     ( (abs(Lepton_pdgId[0])==13) && (Lepton_pt[0]>30) ) )                       && vbs_0_pt > 30 && vbs_1_pt > 30                     && deltaeta_vbs >= 2                      && PuppiMET_pt > 30                    )\n",
      "vars: \n",
      "aliases: bVeto,bReq,bVetoSF,bReqSF,btagSF,isTTbar,isSingleTop,topGenPtOTF,antitopGenPtOTF,Top_pTrw\n",
      "weight: (XSWeight*puWeight*              TriggerEffWeight_1l*              Lepton_RecoSF[0]*              EMTFbug_veto*Lepton_tightElectron_mvaFall17V1Iso_WP90_IdIsoSF[0]*                Lepton_tightMuon_cut_Tight_HWWW_IdIsoSF[0]*(Lepton_isTightElectron_mvaFall17V1Iso_WP90[0]>0.5 || Lepton_isTightMuon_cut_Tight_HWWW[0]>0.5)* btagSF*METFilter_MC*Lepton_genmatched[0]* Top_pTrw)\n",
      "--------------------------------------------------------------------------------\n",
      "name: res_sig_mjjincl\n",
      "parent: supercut\n",
      "cut: VBS_category==1             && vjet_0_pt > 30 && vjet_1_pt > 30             && mjj_vjet > 65 && mjj_vjet < 105             && bVeto             && mjj_vbs >=250             \n",
      "vars: res_sig_mjjincl_events,res_sig_mjjincl_Lepton_eta,res_sig_mjjincl_Lepton_pt,res_sig_mjjincl_Lepton_flavour,res_sig_mjjincl_PuppiMET,res_sig_mjjincl_PuppiMET_phi,res_sig_mjjincl_MET_pt,res_sig_mjjincl_mjj_vbs,res_sig_mjjincl_deltaeta_vbs,res_sig_mjjincl_mjj_vjet,res_sig_mjjincl_vjet_0_pt,res_sig_mjjincl_vjet_1_pt,res_sig_mjjincl_vbs_etaprod,res_sig_mjjincl_vbs_0_pt,res_sig_mjjincl_vbs_1_pt,res_sig_mjjincl_vbs_0_eta,res_sig_mjjincl_vbs_1_eta,res_sig_mjjincl_vjet_0_eta,res_sig_mjjincl_vjet_1_eta,res_sig_mjjincl_deltaphi_vbs,res_sig_mjjincl_vbs_index_0,res_sig_mjjincl_vbs_index_1,res_sig_mjjincl_vjet_index_0,res_sig_mjjincl_vjet_index_1,res_sig_mjjincl_Zvjets_0,res_sig_mjjincl_Zvjets_1,res_sig_mjjincl_Zlep,res_sig_mjjincl_Asym_vbs,res_sig_mjjincl_Asym_vjet,res_sig_mjjincl_Mw_lep_reco,res_sig_mjjincl_Mtw_lep,res_sig_mjjincl_w_lep_pt,res_sig_mjjincl_Mww,res_sig_mjjincl_R_ww,res_sig_mjjincl_R_mw,res_sig_mjjincl_A_ww,res_sig_mjjincl_Centr_vbs,res_sig_mjjincl_Centr_ww,res_sig_mjjincl_mll,res_sig_mjjincl_nvtx,res_sig_mjjincl_qgl\n",
      "aliases: \n",
      "weight: None\n",
      "--------------------------------------------------------------------------------\n",
      "name: boos_sig_mjjincl\n",
      "parent: supercut\n",
      "cut: VBS_category==0             && vjet_0_pt > 200             && mjj_vjet > 65 && mjj_vjet < 105             && bVeto             && mjj_vbs >=250             \n",
      "vars: boos_sig_mjjincl_events,boos_sig_mjjincl_Lepton_eta,boos_sig_mjjincl_Lepton_pt,boos_sig_mjjincl_Lepton_flavour,boos_sig_mjjincl_PuppiMET,boos_sig_mjjincl_PuppiMET_phi,boos_sig_mjjincl_MET_pt,boos_sig_mjjincl_mjj_vbs,boos_sig_mjjincl_deltaeta_vbs,boos_sig_mjjincl_mjj_vjet,boos_sig_mjjincl_vjet_0_pt,boos_sig_mjjincl_vjet_1_pt,boos_sig_mjjincl_vbs_etaprod,boos_sig_mjjincl_vbs_0_pt,boos_sig_mjjincl_vbs_1_pt,boos_sig_mjjincl_vbs_0_eta,boos_sig_mjjincl_vbs_1_eta,boos_sig_mjjincl_vjet_0_eta,boos_sig_mjjincl_vjet_1_eta,boos_sig_mjjincl_deltaphi_vbs,boos_sig_mjjincl_vbs_index_0,boos_sig_mjjincl_vbs_index_1,boos_sig_mjjincl_vjet_index_0,boos_sig_mjjincl_vjet_index_1,boos_sig_mjjincl_Zvjets_0,boos_sig_mjjincl_Zvjets_1,boos_sig_mjjincl_Zlep,boos_sig_mjjincl_Asym_vbs,boos_sig_mjjincl_Asym_vjet,boos_sig_mjjincl_Mw_lep_reco,boos_sig_mjjincl_Mtw_lep,boos_sig_mjjincl_w_lep_pt,boos_sig_mjjincl_Mww,boos_sig_mjjincl_R_ww,boos_sig_mjjincl_R_mw,boos_sig_mjjincl_A_ww,boos_sig_mjjincl_Centr_vbs,boos_sig_mjjincl_Centr_ww,boos_sig_mjjincl_mll,boos_sig_mjjincl_nvtx,boos_sig_mjjincl_qgl\n",
      "aliases: \n",
      "weight: None\n",
      "--------------------------------------------------------------------------------\n",
      "top (15681, 43)\n",
      "Tree: Wjets\n",
      "name: supercut\n",
      "parent: None\n",
      "cut: (                   ( ( (abs(Lepton_pdgId[0])==11) && (Lepton_pt[0]>40) ) ||                     ( (abs(Lepton_pdgId[0])==13) && (Lepton_pt[0]>30) ) )                       && vbs_0_pt > 30 && vbs_1_pt > 30                     && deltaeta_vbs >= 2                      && PuppiMET_pt > 30                    )\n",
      "vars: \n",
      "aliases: bVeto,bReq,bVetoSF,bReqSF,btagSF\n",
      "weight: (XSWeight*puWeight*              TriggerEffWeight_1l*              Lepton_RecoSF[0]*              EMTFbug_veto*Lepton_tightElectron_mvaFall17V1Iso_WP90_IdIsoSF[0]*                Lepton_tightMuon_cut_Tight_HWWW_IdIsoSF[0]*(Lepton_isTightElectron_mvaFall17V1Iso_WP90[0]>0.5 || Lepton_isTightMuon_cut_Tight_HWWW[0]>0.5)* btagSF*METFilter_MC*Lepton_genmatched[0])*((1.))\n",
      "--------------------------------------------------------------------------------\n",
      "name: res_sig_mjjincl\n",
      "parent: supercut\n",
      "cut: VBS_category==1             && vjet_0_pt > 30 && vjet_1_pt > 30             && mjj_vjet > 65 && mjj_vjet < 105             && bVeto             && mjj_vbs >=250             \n",
      "vars: res_sig_mjjincl_events,res_sig_mjjincl_Lepton_eta,res_sig_mjjincl_Lepton_pt,res_sig_mjjincl_Lepton_flavour,res_sig_mjjincl_PuppiMET,res_sig_mjjincl_PuppiMET_phi,res_sig_mjjincl_MET_pt,res_sig_mjjincl_mjj_vbs,res_sig_mjjincl_deltaeta_vbs,res_sig_mjjincl_mjj_vjet,res_sig_mjjincl_vjet_0_pt,res_sig_mjjincl_vjet_1_pt,res_sig_mjjincl_vbs_etaprod,res_sig_mjjincl_vbs_0_pt,res_sig_mjjincl_vbs_1_pt,res_sig_mjjincl_vbs_0_eta,res_sig_mjjincl_vbs_1_eta,res_sig_mjjincl_vjet_0_eta,res_sig_mjjincl_vjet_1_eta,res_sig_mjjincl_deltaphi_vbs,res_sig_mjjincl_vbs_index_0,res_sig_mjjincl_vbs_index_1,res_sig_mjjincl_vjet_index_0,res_sig_mjjincl_vjet_index_1,res_sig_mjjincl_Zvjets_0,res_sig_mjjincl_Zvjets_1,res_sig_mjjincl_Zlep,res_sig_mjjincl_Asym_vbs,res_sig_mjjincl_Asym_vjet,res_sig_mjjincl_Mw_lep_reco,res_sig_mjjincl_Mtw_lep,res_sig_mjjincl_w_lep_pt,res_sig_mjjincl_Mww,res_sig_mjjincl_R_ww,res_sig_mjjincl_R_mw,res_sig_mjjincl_A_ww,res_sig_mjjincl_Centr_vbs,res_sig_mjjincl_Centr_ww,res_sig_mjjincl_mll,res_sig_mjjincl_nvtx,res_sig_mjjincl_qgl\n",
      "aliases: \n",
      "weight: None\n",
      "--------------------------------------------------------------------------------\n",
      "name: boos_sig_mjjincl\n",
      "parent: supercut\n",
      "cut: VBS_category==0             && vjet_0_pt > 200             && mjj_vjet > 65 && mjj_vjet < 105             && bVeto             && mjj_vbs >=250             \n",
      "vars: boos_sig_mjjincl_events,boos_sig_mjjincl_Lepton_eta,boos_sig_mjjincl_Lepton_pt,boos_sig_mjjincl_Lepton_flavour,boos_sig_mjjincl_PuppiMET,boos_sig_mjjincl_PuppiMET_phi,boos_sig_mjjincl_MET_pt,boos_sig_mjjincl_mjj_vbs,boos_sig_mjjincl_deltaeta_vbs,boos_sig_mjjincl_mjj_vjet,boos_sig_mjjincl_vjet_0_pt,boos_sig_mjjincl_vjet_1_pt,boos_sig_mjjincl_vbs_etaprod,boos_sig_mjjincl_vbs_0_pt,boos_sig_mjjincl_vbs_1_pt,boos_sig_mjjincl_vbs_0_eta,boos_sig_mjjincl_vbs_1_eta,boos_sig_mjjincl_vjet_0_eta,boos_sig_mjjincl_vjet_1_eta,boos_sig_mjjincl_deltaphi_vbs,boos_sig_mjjincl_vbs_index_0,boos_sig_mjjincl_vbs_index_1,boos_sig_mjjincl_vjet_index_0,boos_sig_mjjincl_vjet_index_1,boos_sig_mjjincl_Zvjets_0,boos_sig_mjjincl_Zvjets_1,boos_sig_mjjincl_Zlep,boos_sig_mjjincl_Asym_vbs,boos_sig_mjjincl_Asym_vjet,boos_sig_mjjincl_Mw_lep_reco,boos_sig_mjjincl_Mtw_lep,boos_sig_mjjincl_w_lep_pt,boos_sig_mjjincl_Mww,boos_sig_mjjincl_R_ww,boos_sig_mjjincl_R_mw,boos_sig_mjjincl_A_ww,boos_sig_mjjincl_Centr_vbs,boos_sig_mjjincl_Centr_ww,boos_sig_mjjincl_mll,boos_sig_mjjincl_nvtx,boos_sig_mjjincl_qgl\n",
      "aliases: \n",
      "weight: None\n",
      "--------------------------------------------------------------------------------\n",
      "Wjets (95970, 43)\n",
      "Tree: DY\n",
      "name: supercut\n",
      "parent: None\n",
      "cut: (                   ( ( (abs(Lepton_pdgId[0])==11) && (Lepton_pt[0]>40) ) ||                     ( (abs(Lepton_pdgId[0])==13) && (Lepton_pt[0]>30) ) )                       && vbs_0_pt > 30 && vbs_1_pt > 30                     && deltaeta_vbs >= 2                      && PuppiMET_pt > 30                    )\n",
      "vars: \n",
      "aliases: bVeto,bReq,bVetoSF,bReqSF,btagSF\n",
      "weight: (XSWeight*puWeight*              TriggerEffWeight_1l*              Lepton_RecoSF[0]*              EMTFbug_veto*Lepton_tightElectron_mvaFall17V1Iso_WP90_IdIsoSF[0]*                Lepton_tightMuon_cut_Tight_HWWW_IdIsoSF[0]*(Lepton_isTightElectron_mvaFall17V1Iso_WP90[0]>0.5 || Lepton_isTightMuon_cut_Tight_HWWW[0]>0.5)* btagSF*METFilter_MC*Lepton_genmatched[0]*(Sum(GenPart_pdgId == 22 && OddVec(GenPart_statusFlags) && GenPart_pt > 20.) == 0))*((1.)*((   0.87*(gen_ptll<10) +   (0.379119 + 0.099744*gen_ptll - 0.00487351*pow(gen_ptll,2) + 9.19509e-05*pow(gen_ptll,3) - 6.0212e-07*pow(gen_ptll,4) )*  (gen_ptll>=10 && gen_ptll<45)+  (9.12137e-01 + 1.11957e-04*gen_ptll - 3.15325e-06*pow(gen_ptll,2) - 4.29708e-09*pow(gen_ptll,3) + 3.35791e-11*pow(gen_ptll,4) )*  (gen_ptll>=45 && gen_ptll<200) +   1*(gen_ptll>200)  )*(LHE_HT<70)))\n",
      "--------------------------------------------------------------------------------\n",
      "name: res_sig_mjjincl\n",
      "parent: supercut\n",
      "cut: VBS_category==1             && vjet_0_pt > 30 && vjet_1_pt > 30             && mjj_vjet > 65 && mjj_vjet < 105             && bVeto             && mjj_vbs >=250             \n",
      "vars: res_sig_mjjincl_events,res_sig_mjjincl_Lepton_eta,res_sig_mjjincl_Lepton_pt,res_sig_mjjincl_Lepton_flavour,res_sig_mjjincl_PuppiMET,res_sig_mjjincl_PuppiMET_phi,res_sig_mjjincl_MET_pt,res_sig_mjjincl_mjj_vbs,res_sig_mjjincl_deltaeta_vbs,res_sig_mjjincl_mjj_vjet,res_sig_mjjincl_vjet_0_pt,res_sig_mjjincl_vjet_1_pt,res_sig_mjjincl_vbs_etaprod,res_sig_mjjincl_vbs_0_pt,res_sig_mjjincl_vbs_1_pt,res_sig_mjjincl_vbs_0_eta,res_sig_mjjincl_vbs_1_eta,res_sig_mjjincl_vjet_0_eta,res_sig_mjjincl_vjet_1_eta,res_sig_mjjincl_deltaphi_vbs,res_sig_mjjincl_vbs_index_0,res_sig_mjjincl_vbs_index_1,res_sig_mjjincl_vjet_index_0,res_sig_mjjincl_vjet_index_1,res_sig_mjjincl_Zvjets_0,res_sig_mjjincl_Zvjets_1,res_sig_mjjincl_Zlep,res_sig_mjjincl_Asym_vbs,res_sig_mjjincl_Asym_vjet,res_sig_mjjincl_Mw_lep_reco,res_sig_mjjincl_Mtw_lep,res_sig_mjjincl_w_lep_pt,res_sig_mjjincl_Mww,res_sig_mjjincl_R_ww,res_sig_mjjincl_R_mw,res_sig_mjjincl_A_ww,res_sig_mjjincl_Centr_vbs,res_sig_mjjincl_Centr_ww,res_sig_mjjincl_mll,res_sig_mjjincl_nvtx,res_sig_mjjincl_qgl\n",
      "aliases: \n",
      "weight: None\n",
      "--------------------------------------------------------------------------------\n",
      "name: boos_sig_mjjincl\n",
      "parent: supercut\n",
      "cut: VBS_category==0             && vjet_0_pt > 200             && mjj_vjet > 65 && mjj_vjet < 105             && bVeto             && mjj_vbs >=250             \n",
      "vars: boos_sig_mjjincl_events,boos_sig_mjjincl_Lepton_eta,boos_sig_mjjincl_Lepton_pt,boos_sig_mjjincl_Lepton_flavour,boos_sig_mjjincl_PuppiMET,boos_sig_mjjincl_PuppiMET_phi,boos_sig_mjjincl_MET_pt,boos_sig_mjjincl_mjj_vbs,boos_sig_mjjincl_deltaeta_vbs,boos_sig_mjjincl_mjj_vjet,boos_sig_mjjincl_vjet_0_pt,boos_sig_mjjincl_vjet_1_pt,boos_sig_mjjincl_vbs_etaprod,boos_sig_mjjincl_vbs_0_pt,boos_sig_mjjincl_vbs_1_pt,boos_sig_mjjincl_vbs_0_eta,boos_sig_mjjincl_vbs_1_eta,boos_sig_mjjincl_vjet_0_eta,boos_sig_mjjincl_vjet_1_eta,boos_sig_mjjincl_deltaphi_vbs,boos_sig_mjjincl_vbs_index_0,boos_sig_mjjincl_vbs_index_1,boos_sig_mjjincl_vjet_index_0,boos_sig_mjjincl_vjet_index_1,boos_sig_mjjincl_Zvjets_0,boos_sig_mjjincl_Zvjets_1,boos_sig_mjjincl_Zlep,boos_sig_mjjincl_Asym_vbs,boos_sig_mjjincl_Asym_vjet,boos_sig_mjjincl_Mw_lep_reco,boos_sig_mjjincl_Mtw_lep,boos_sig_mjjincl_w_lep_pt,boos_sig_mjjincl_Mww,boos_sig_mjjincl_R_ww,boos_sig_mjjincl_R_mw,boos_sig_mjjincl_A_ww,boos_sig_mjjincl_Centr_vbs,boos_sig_mjjincl_Centr_ww,boos_sig_mjjincl_mll,boos_sig_mjjincl_nvtx,boos_sig_mjjincl_qgl\n",
      "aliases: \n",
      "weight: None\n",
      "--------------------------------------------------------------------------------\n"
     ]
    },
    {
     "name": "stdout",
     "output_type": "stream",
     "text": [
      "DY (2, 43)\n",
      "Tree: DY\n",
      "name: supercut\n",
      "parent: None\n",
      "cut: (                   ( ( (abs(Lepton_pdgId[0])==11) && (Lepton_pt[0]>40) ) ||                     ( (abs(Lepton_pdgId[0])==13) && (Lepton_pt[0]>30) ) )                       && vbs_0_pt > 30 && vbs_1_pt > 30                     && deltaeta_vbs >= 2                      && PuppiMET_pt > 30                    )\n",
      "vars: \n",
      "aliases: bVeto,bReq,bVetoSF,bReqSF,btagSF\n",
      "weight: (XSWeight*puWeight*              TriggerEffWeight_1l*              Lepton_RecoSF[0]*              EMTFbug_veto*Lepton_tightElectron_mvaFall17V1Iso_WP90_IdIsoSF[0]*                Lepton_tightMuon_cut_Tight_HWWW_IdIsoSF[0]*(Lepton_isTightElectron_mvaFall17V1Iso_WP90[0]>0.5 || Lepton_isTightMuon_cut_Tight_HWWW[0]>0.5)* btagSF*METFilter_MC*Lepton_genmatched[0]*(Sum(GenPart_pdgId == 22 && OddVec(GenPart_statusFlags) && GenPart_pt > 20.) == 0))*((1.)*(((0.632927+0.0456956*gen_ptll-0.00154485*gen_ptll*gen_ptll+2.64397e-05*gen_ptll*gen_ptll*gen_ptll-2.19374e-07*gen_ptll*gen_ptll*gen_ptll*gen_ptll+6.99751e-10*gen_ptll*gen_ptll*gen_ptll*gen_ptll*gen_ptll)*(gen_ptll>0)*(gen_ptll<100)+(1.41713-0.00165342*gen_ptll)*(gen_ptll>=100)*(gen_ptll<300)+1*(gen_ptll>=300))))\n",
      "--------------------------------------------------------------------------------\n",
      "name: res_sig_mjjincl\n",
      "parent: supercut\n",
      "cut: VBS_category==1             && vjet_0_pt > 30 && vjet_1_pt > 30             && mjj_vjet > 65 && mjj_vjet < 105             && bVeto             && mjj_vbs >=250             \n",
      "vars: res_sig_mjjincl_events,res_sig_mjjincl_Lepton_eta,res_sig_mjjincl_Lepton_pt,res_sig_mjjincl_Lepton_flavour,res_sig_mjjincl_PuppiMET,res_sig_mjjincl_PuppiMET_phi,res_sig_mjjincl_MET_pt,res_sig_mjjincl_mjj_vbs,res_sig_mjjincl_deltaeta_vbs,res_sig_mjjincl_mjj_vjet,res_sig_mjjincl_vjet_0_pt,res_sig_mjjincl_vjet_1_pt,res_sig_mjjincl_vbs_etaprod,res_sig_mjjincl_vbs_0_pt,res_sig_mjjincl_vbs_1_pt,res_sig_mjjincl_vbs_0_eta,res_sig_mjjincl_vbs_1_eta,res_sig_mjjincl_vjet_0_eta,res_sig_mjjincl_vjet_1_eta,res_sig_mjjincl_deltaphi_vbs,res_sig_mjjincl_vbs_index_0,res_sig_mjjincl_vbs_index_1,res_sig_mjjincl_vjet_index_0,res_sig_mjjincl_vjet_index_1,res_sig_mjjincl_Zvjets_0,res_sig_mjjincl_Zvjets_1,res_sig_mjjincl_Zlep,res_sig_mjjincl_Asym_vbs,res_sig_mjjincl_Asym_vjet,res_sig_mjjincl_Mw_lep_reco,res_sig_mjjincl_Mtw_lep,res_sig_mjjincl_w_lep_pt,res_sig_mjjincl_Mww,res_sig_mjjincl_R_ww,res_sig_mjjincl_R_mw,res_sig_mjjincl_A_ww,res_sig_mjjincl_Centr_vbs,res_sig_mjjincl_Centr_ww,res_sig_mjjincl_mll,res_sig_mjjincl_nvtx,res_sig_mjjincl_qgl\n",
      "aliases: \n",
      "weight: None\n",
      "--------------------------------------------------------------------------------\n",
      "name: boos_sig_mjjincl\n",
      "parent: supercut\n",
      "cut: VBS_category==0             && vjet_0_pt > 200             && mjj_vjet > 65 && mjj_vjet < 105             && bVeto             && mjj_vbs >=250             \n",
      "vars: boos_sig_mjjincl_events,boos_sig_mjjincl_Lepton_eta,boos_sig_mjjincl_Lepton_pt,boos_sig_mjjincl_Lepton_flavour,boos_sig_mjjincl_PuppiMET,boos_sig_mjjincl_PuppiMET_phi,boos_sig_mjjincl_MET_pt,boos_sig_mjjincl_mjj_vbs,boos_sig_mjjincl_deltaeta_vbs,boos_sig_mjjincl_mjj_vjet,boos_sig_mjjincl_vjet_0_pt,boos_sig_mjjincl_vjet_1_pt,boos_sig_mjjincl_vbs_etaprod,boos_sig_mjjincl_vbs_0_pt,boos_sig_mjjincl_vbs_1_pt,boos_sig_mjjincl_vbs_0_eta,boos_sig_mjjincl_vbs_1_eta,boos_sig_mjjincl_vjet_0_eta,boos_sig_mjjincl_vjet_1_eta,boos_sig_mjjincl_deltaphi_vbs,boos_sig_mjjincl_vbs_index_0,boos_sig_mjjincl_vbs_index_1,boos_sig_mjjincl_vjet_index_0,boos_sig_mjjincl_vjet_index_1,boos_sig_mjjincl_Zvjets_0,boos_sig_mjjincl_Zvjets_1,boos_sig_mjjincl_Zlep,boos_sig_mjjincl_Asym_vbs,boos_sig_mjjincl_Asym_vjet,boos_sig_mjjincl_Mw_lep_reco,boos_sig_mjjincl_Mtw_lep,boos_sig_mjjincl_w_lep_pt,boos_sig_mjjincl_Mww,boos_sig_mjjincl_R_ww,boos_sig_mjjincl_R_mw,boos_sig_mjjincl_A_ww,boos_sig_mjjincl_Centr_vbs,boos_sig_mjjincl_Centr_ww,boos_sig_mjjincl_mll,boos_sig_mjjincl_nvtx,boos_sig_mjjincl_qgl\n",
      "aliases: \n",
      "weight: None\n",
      "--------------------------------------------------------------------------------\n",
      "DY (27327, 43)\n",
      "Tree: VV\n",
      "name: supercut\n",
      "parent: None\n",
      "cut: (                   ( ( (abs(Lepton_pdgId[0])==11) && (Lepton_pt[0]>40) ) ||                     ( (abs(Lepton_pdgId[0])==13) && (Lepton_pt[0]>30) ) )                       && vbs_0_pt > 30 && vbs_1_pt > 30                     && deltaeta_vbs >= 2                      && PuppiMET_pt > 30                    )\n",
      "vars: \n",
      "aliases: bVeto,bReq,bVetoSF,bReqSF,btagSF\n",
      "weight: (XSWeight*puWeight*              TriggerEffWeight_1l*              Lepton_RecoSF[0]*              EMTFbug_veto*Lepton_tightElectron_mvaFall17V1Iso_WP90_IdIsoSF[0]*                Lepton_tightMuon_cut_Tight_HWWW_IdIsoSF[0]*(Lepton_isTightElectron_mvaFall17V1Iso_WP90[0]>0.5 || Lepton_isTightMuon_cut_Tight_HWWW[0]>0.5)* btagSF*METFilter_MC*Lepton_genmatched[0]* ewknloW)\n",
      "--------------------------------------------------------------------------------\n",
      "name: res_sig_mjjincl\n",
      "parent: supercut\n",
      "cut: VBS_category==1             && vjet_0_pt > 30 && vjet_1_pt > 30             && mjj_vjet > 65 && mjj_vjet < 105             && bVeto             && mjj_vbs >=250             \n",
      "vars: res_sig_mjjincl_events,res_sig_mjjincl_Lepton_eta,res_sig_mjjincl_Lepton_pt,res_sig_mjjincl_Lepton_flavour,res_sig_mjjincl_PuppiMET,res_sig_mjjincl_PuppiMET_phi,res_sig_mjjincl_MET_pt,res_sig_mjjincl_mjj_vbs,res_sig_mjjincl_deltaeta_vbs,res_sig_mjjincl_mjj_vjet,res_sig_mjjincl_vjet_0_pt,res_sig_mjjincl_vjet_1_pt,res_sig_mjjincl_vbs_etaprod,res_sig_mjjincl_vbs_0_pt,res_sig_mjjincl_vbs_1_pt,res_sig_mjjincl_vbs_0_eta,res_sig_mjjincl_vbs_1_eta,res_sig_mjjincl_vjet_0_eta,res_sig_mjjincl_vjet_1_eta,res_sig_mjjincl_deltaphi_vbs,res_sig_mjjincl_vbs_index_0,res_sig_mjjincl_vbs_index_1,res_sig_mjjincl_vjet_index_0,res_sig_mjjincl_vjet_index_1,res_sig_mjjincl_Zvjets_0,res_sig_mjjincl_Zvjets_1,res_sig_mjjincl_Zlep,res_sig_mjjincl_Asym_vbs,res_sig_mjjincl_Asym_vjet,res_sig_mjjincl_Mw_lep_reco,res_sig_mjjincl_Mtw_lep,res_sig_mjjincl_w_lep_pt,res_sig_mjjincl_Mww,res_sig_mjjincl_R_ww,res_sig_mjjincl_R_mw,res_sig_mjjincl_A_ww,res_sig_mjjincl_Centr_vbs,res_sig_mjjincl_Centr_ww,res_sig_mjjincl_mll,res_sig_mjjincl_nvtx,res_sig_mjjincl_qgl\n",
      "aliases: \n",
      "weight: None\n",
      "--------------------------------------------------------------------------------\n",
      "name: boos_sig_mjjincl\n",
      "parent: supercut\n",
      "cut: VBS_category==0             && vjet_0_pt > 200             && mjj_vjet > 65 && mjj_vjet < 105             && bVeto             && mjj_vbs >=250             \n",
      "vars: boos_sig_mjjincl_events,boos_sig_mjjincl_Lepton_eta,boos_sig_mjjincl_Lepton_pt,boos_sig_mjjincl_Lepton_flavour,boos_sig_mjjincl_PuppiMET,boos_sig_mjjincl_PuppiMET_phi,boos_sig_mjjincl_MET_pt,boos_sig_mjjincl_mjj_vbs,boos_sig_mjjincl_deltaeta_vbs,boos_sig_mjjincl_mjj_vjet,boos_sig_mjjincl_vjet_0_pt,boos_sig_mjjincl_vjet_1_pt,boos_sig_mjjincl_vbs_etaprod,boos_sig_mjjincl_vbs_0_pt,boos_sig_mjjincl_vbs_1_pt,boos_sig_mjjincl_vbs_0_eta,boos_sig_mjjincl_vbs_1_eta,boos_sig_mjjincl_vjet_0_eta,boos_sig_mjjincl_vjet_1_eta,boos_sig_mjjincl_deltaphi_vbs,boos_sig_mjjincl_vbs_index_0,boos_sig_mjjincl_vbs_index_1,boos_sig_mjjincl_vjet_index_0,boos_sig_mjjincl_vjet_index_1,boos_sig_mjjincl_Zvjets_0,boos_sig_mjjincl_Zvjets_1,boos_sig_mjjincl_Zlep,boos_sig_mjjincl_Asym_vbs,boos_sig_mjjincl_Asym_vjet,boos_sig_mjjincl_Mw_lep_reco,boos_sig_mjjincl_Mtw_lep,boos_sig_mjjincl_w_lep_pt,boos_sig_mjjincl_Mww,boos_sig_mjjincl_R_ww,boos_sig_mjjincl_R_mw,boos_sig_mjjincl_A_ww,boos_sig_mjjincl_Centr_vbs,boos_sig_mjjincl_Centr_ww,boos_sig_mjjincl_mll,boos_sig_mjjincl_nvtx,boos_sig_mjjincl_qgl\n",
      "aliases: \n",
      "weight: None\n",
      "--------------------------------------------------------------------------------\n",
      "VV (12679, 43)\n",
      "Tree: Wjets\n",
      "name: supercut\n",
      "parent: None\n",
      "cut: (                   ( ( (abs(Lepton_pdgId[0])==11) && (Lepton_pt[0]>40) ) ||                     ( (abs(Lepton_pdgId[0])==13) && (Lepton_pt[0]>30) ) )                       && vbs_0_pt > 30 && vbs_1_pt > 30                     && deltaeta_vbs >= 2                      && PuppiMET_pt > 30                    )\n",
      "vars: \n",
      "aliases: bVeto,bReq,bVetoSF,bReqSF,btagSF\n",
      "weight: (XSWeight*puWeight*              TriggerEffWeight_1l*              Lepton_RecoSF[0]*              EMTFbug_veto*Lepton_tightElectron_mvaFall17V1Iso_WP90_IdIsoSF[0]*                Lepton_tightMuon_cut_Tight_HWWW_IdIsoSF[0]*(Lepton_isTightElectron_mvaFall17V1Iso_WP90[0]>0.5 || Lepton_isTightMuon_cut_Tight_HWWW[0]>0.5)* btagSF*METFilter_MC*Lepton_genmatched[0])*((1.)*(LHE_HT < 100))\n",
      "--------------------------------------------------------------------------------\n",
      "name: res_sig_mjjincl\n",
      "parent: supercut\n",
      "cut: VBS_category==1             && vjet_0_pt > 30 && vjet_1_pt > 30             && mjj_vjet > 65 && mjj_vjet < 105             && bVeto             && mjj_vbs >=250             \n",
      "vars: res_sig_mjjincl_events,res_sig_mjjincl_Lepton_eta,res_sig_mjjincl_Lepton_pt,res_sig_mjjincl_Lepton_flavour,res_sig_mjjincl_PuppiMET,res_sig_mjjincl_PuppiMET_phi,res_sig_mjjincl_MET_pt,res_sig_mjjincl_mjj_vbs,res_sig_mjjincl_deltaeta_vbs,res_sig_mjjincl_mjj_vjet,res_sig_mjjincl_vjet_0_pt,res_sig_mjjincl_vjet_1_pt,res_sig_mjjincl_vbs_etaprod,res_sig_mjjincl_vbs_0_pt,res_sig_mjjincl_vbs_1_pt,res_sig_mjjincl_vbs_0_eta,res_sig_mjjincl_vbs_1_eta,res_sig_mjjincl_vjet_0_eta,res_sig_mjjincl_vjet_1_eta,res_sig_mjjincl_deltaphi_vbs,res_sig_mjjincl_vbs_index_0,res_sig_mjjincl_vbs_index_1,res_sig_mjjincl_vjet_index_0,res_sig_mjjincl_vjet_index_1,res_sig_mjjincl_Zvjets_0,res_sig_mjjincl_Zvjets_1,res_sig_mjjincl_Zlep,res_sig_mjjincl_Asym_vbs,res_sig_mjjincl_Asym_vjet,res_sig_mjjincl_Mw_lep_reco,res_sig_mjjincl_Mtw_lep,res_sig_mjjincl_w_lep_pt,res_sig_mjjincl_Mww,res_sig_mjjincl_R_ww,res_sig_mjjincl_R_mw,res_sig_mjjincl_A_ww,res_sig_mjjincl_Centr_vbs,res_sig_mjjincl_Centr_ww,res_sig_mjjincl_mll,res_sig_mjjincl_nvtx,res_sig_mjjincl_qgl\n",
      "aliases: \n",
      "weight: None\n",
      "--------------------------------------------------------------------------------\n",
      "name: boos_sig_mjjincl\n",
      "parent: supercut\n",
      "cut: VBS_category==0             && vjet_0_pt > 200             && mjj_vjet > 65 && mjj_vjet < 105             && bVeto             && mjj_vbs >=250             \n",
      "vars: boos_sig_mjjincl_events,boos_sig_mjjincl_Lepton_eta,boos_sig_mjjincl_Lepton_pt,boos_sig_mjjincl_Lepton_flavour,boos_sig_mjjincl_PuppiMET,boos_sig_mjjincl_PuppiMET_phi,boos_sig_mjjincl_MET_pt,boos_sig_mjjincl_mjj_vbs,boos_sig_mjjincl_deltaeta_vbs,boos_sig_mjjincl_mjj_vjet,boos_sig_mjjincl_vjet_0_pt,boos_sig_mjjincl_vjet_1_pt,boos_sig_mjjincl_vbs_etaprod,boos_sig_mjjincl_vbs_0_pt,boos_sig_mjjincl_vbs_1_pt,boos_sig_mjjincl_vbs_0_eta,boos_sig_mjjincl_vbs_1_eta,boos_sig_mjjincl_vjet_0_eta,boos_sig_mjjincl_vjet_1_eta,boos_sig_mjjincl_deltaphi_vbs,boos_sig_mjjincl_vbs_index_0,boos_sig_mjjincl_vbs_index_1,boos_sig_mjjincl_vjet_index_0,boos_sig_mjjincl_vjet_index_1,boos_sig_mjjincl_Zvjets_0,boos_sig_mjjincl_Zvjets_1,boos_sig_mjjincl_Zlep,boos_sig_mjjincl_Asym_vbs,boos_sig_mjjincl_Asym_vjet,boos_sig_mjjincl_Mw_lep_reco,boos_sig_mjjincl_Mtw_lep,boos_sig_mjjincl_w_lep_pt,boos_sig_mjjincl_Mww,boos_sig_mjjincl_R_ww,boos_sig_mjjincl_R_mw,boos_sig_mjjincl_A_ww,boos_sig_mjjincl_Centr_vbs,boos_sig_mjjincl_Centr_ww,boos_sig_mjjincl_mll,boos_sig_mjjincl_nvtx,boos_sig_mjjincl_qgl\n",
      "aliases: \n",
      "weight: None\n",
      "--------------------------------------------------------------------------------\n"
     ]
    },
    {
     "name": "stderr",
     "output_type": "stream",
     "text": [
      "/cvmfs/sft-nightlies.cern.ch/lcg/views/dev3python3/Wed/x86_64-centos7-gcc8-opt/lib/python3.7/site-packages/PyRDF/backend/Dist.py:315: UserWarning: Number of partitions is greater than number of clustersin the filelist\n",
      "Using 50 partition(s)\n",
      "  filelist, self.friend_info)\n"
     ]
    },
    {
     "name": "stdout",
     "output_type": "stream",
     "text": [
      "Wjets (0, 43)\n",
      "Tree: VBS\n",
      "name: supercut\n",
      "parent: None\n",
      "cut: (                   ( ( (abs(Lepton_pdgId[0])==11) && (Lepton_pt[0]>40) ) ||                     ( (abs(Lepton_pdgId[0])==13) && (Lepton_pt[0]>30) ) )                       && vbs_0_pt > 30 && vbs_1_pt > 30                     && deltaeta_vbs >= 2                      && PuppiMET_pt > 30                    )\n",
      "vars: \n",
      "aliases: bVeto,bReq,bVetoSF,bReqSF,btagSF\n",
      "weight: (XSWeight*puWeight*              TriggerEffWeight_1l*              Lepton_RecoSF[0]*              EMTFbug_veto*Lepton_tightElectron_mvaFall17V1Iso_WP90_IdIsoSF[0]*                Lepton_tightMuon_cut_Tight_HWWW_IdIsoSF[0]*(Lepton_isTightElectron_mvaFall17V1Iso_WP90[0]>0.5 || Lepton_isTightMuon_cut_Tight_HWWW[0]>0.5)* btagSF*METFilter_MC*Lepton_genmatched[0])\n",
      "--------------------------------------------------------------------------------\n",
      "name: res_sig_mjjincl\n",
      "parent: supercut\n",
      "cut: VBS_category==1             && vjet_0_pt > 30 && vjet_1_pt > 30             && mjj_vjet > 65 && mjj_vjet < 105             && bVeto             && mjj_vbs >=250             \n",
      "vars: res_sig_mjjincl_events,res_sig_mjjincl_Lepton_eta,res_sig_mjjincl_Lepton_pt,res_sig_mjjincl_Lepton_flavour,res_sig_mjjincl_PuppiMET,res_sig_mjjincl_PuppiMET_phi,res_sig_mjjincl_MET_pt,res_sig_mjjincl_mjj_vbs,res_sig_mjjincl_deltaeta_vbs,res_sig_mjjincl_mjj_vjet,res_sig_mjjincl_vjet_0_pt,res_sig_mjjincl_vjet_1_pt,res_sig_mjjincl_vbs_etaprod,res_sig_mjjincl_vbs_0_pt,res_sig_mjjincl_vbs_1_pt,res_sig_mjjincl_vbs_0_eta,res_sig_mjjincl_vbs_1_eta,res_sig_mjjincl_vjet_0_eta,res_sig_mjjincl_vjet_1_eta,res_sig_mjjincl_deltaphi_vbs,res_sig_mjjincl_vbs_index_0,res_sig_mjjincl_vbs_index_1,res_sig_mjjincl_vjet_index_0,res_sig_mjjincl_vjet_index_1,res_sig_mjjincl_Zvjets_0,res_sig_mjjincl_Zvjets_1,res_sig_mjjincl_Zlep,res_sig_mjjincl_Asym_vbs,res_sig_mjjincl_Asym_vjet,res_sig_mjjincl_Mw_lep_reco,res_sig_mjjincl_Mtw_lep,res_sig_mjjincl_w_lep_pt,res_sig_mjjincl_Mww,res_sig_mjjincl_R_ww,res_sig_mjjincl_R_mw,res_sig_mjjincl_A_ww,res_sig_mjjincl_Centr_vbs,res_sig_mjjincl_Centr_ww,res_sig_mjjincl_mll,res_sig_mjjincl_nvtx,res_sig_mjjincl_qgl\n",
      "aliases: \n",
      "weight: None\n",
      "--------------------------------------------------------------------------------\n",
      "name: boos_sig_mjjincl\n",
      "parent: supercut\n",
      "cut: VBS_category==0             && vjet_0_pt > 200             && mjj_vjet > 65 && mjj_vjet < 105             && bVeto             && mjj_vbs >=250             \n",
      "vars: boos_sig_mjjincl_events,boos_sig_mjjincl_Lepton_eta,boos_sig_mjjincl_Lepton_pt,boos_sig_mjjincl_Lepton_flavour,boos_sig_mjjincl_PuppiMET,boos_sig_mjjincl_PuppiMET_phi,boos_sig_mjjincl_MET_pt,boos_sig_mjjincl_mjj_vbs,boos_sig_mjjincl_deltaeta_vbs,boos_sig_mjjincl_mjj_vjet,boos_sig_mjjincl_vjet_0_pt,boos_sig_mjjincl_vjet_1_pt,boos_sig_mjjincl_vbs_etaprod,boos_sig_mjjincl_vbs_0_pt,boos_sig_mjjincl_vbs_1_pt,boos_sig_mjjincl_vbs_0_eta,boos_sig_mjjincl_vbs_1_eta,boos_sig_mjjincl_vjet_0_eta,boos_sig_mjjincl_vjet_1_eta,boos_sig_mjjincl_deltaphi_vbs,boos_sig_mjjincl_vbs_index_0,boos_sig_mjjincl_vbs_index_1,boos_sig_mjjincl_vjet_index_0,boos_sig_mjjincl_vjet_index_1,boos_sig_mjjincl_Zvjets_0,boos_sig_mjjincl_Zvjets_1,boos_sig_mjjincl_Zlep,boos_sig_mjjincl_Asym_vbs,boos_sig_mjjincl_Asym_vjet,boos_sig_mjjincl_Mw_lep_reco,boos_sig_mjjincl_Mtw_lep,boos_sig_mjjincl_w_lep_pt,boos_sig_mjjincl_Mww,boos_sig_mjjincl_R_ww,boos_sig_mjjincl_R_mw,boos_sig_mjjincl_A_ww,boos_sig_mjjincl_Centr_vbs,boos_sig_mjjincl_Centr_ww,boos_sig_mjjincl_mll,boos_sig_mjjincl_nvtx,boos_sig_mjjincl_qgl\n",
      "aliases: \n",
      "weight: None\n",
      "--------------------------------------------------------------------------------\n",
      "VBS (22786, 43)\n",
      "Tree: DY\n",
      "name: supercut\n",
      "parent: None\n",
      "cut: (                   ( ( (abs(Lepton_pdgId[0])==11) && (Lepton_pt[0]>40) ) ||                     ( (abs(Lepton_pdgId[0])==13) && (Lepton_pt[0]>30) ) )                       && vbs_0_pt > 30 && vbs_1_pt > 30                     && deltaeta_vbs >= 2                      && PuppiMET_pt > 30                    )\n",
      "vars: \n",
      "aliases: bVeto,bReq,bVetoSF,bReqSF,btagSF\n",
      "weight: (XSWeight*puWeight*              TriggerEffWeight_1l*              Lepton_RecoSF[0]*              EMTFbug_veto*Lepton_tightElectron_mvaFall17V1Iso_WP90_IdIsoSF[0]*                Lepton_tightMuon_cut_Tight_HWWW_IdIsoSF[0]*(Lepton_isTightElectron_mvaFall17V1Iso_WP90[0]>0.5 || Lepton_isTightMuon_cut_Tight_HWWW[0]>0.5)* btagSF*METFilter_MC*Lepton_genmatched[0]*(Sum(GenPart_pdgId == 22 && OddVec(GenPart_statusFlags) && GenPart_pt > 20.) == 0))*((1.)*(((0.632927+0.0456956*gen_ptll-0.00154485*gen_ptll*gen_ptll+2.64397e-05*gen_ptll*gen_ptll*gen_ptll-2.19374e-07*gen_ptll*gen_ptll*gen_ptll*gen_ptll+6.99751e-10*gen_ptll*gen_ptll*gen_ptll*gen_ptll*gen_ptll)*(gen_ptll>0)*(gen_ptll<100)+(1.41713-0.00165342*gen_ptll)*(gen_ptll>=100)*(gen_ptll<300)+1*(gen_ptll>=300))*(LHE_HT<100)))\n",
      "--------------------------------------------------------------------------------\n",
      "name: res_sig_mjjincl\n",
      "parent: supercut\n",
      "cut: VBS_category==1             && vjet_0_pt > 30 && vjet_1_pt > 30             && mjj_vjet > 65 && mjj_vjet < 105             && bVeto             && mjj_vbs >=250             \n",
      "vars: res_sig_mjjincl_events,res_sig_mjjincl_Lepton_eta,res_sig_mjjincl_Lepton_pt,res_sig_mjjincl_Lepton_flavour,res_sig_mjjincl_PuppiMET,res_sig_mjjincl_PuppiMET_phi,res_sig_mjjincl_MET_pt,res_sig_mjjincl_mjj_vbs,res_sig_mjjincl_deltaeta_vbs,res_sig_mjjincl_mjj_vjet,res_sig_mjjincl_vjet_0_pt,res_sig_mjjincl_vjet_1_pt,res_sig_mjjincl_vbs_etaprod,res_sig_mjjincl_vbs_0_pt,res_sig_mjjincl_vbs_1_pt,res_sig_mjjincl_vbs_0_eta,res_sig_mjjincl_vbs_1_eta,res_sig_mjjincl_vjet_0_eta,res_sig_mjjincl_vjet_1_eta,res_sig_mjjincl_deltaphi_vbs,res_sig_mjjincl_vbs_index_0,res_sig_mjjincl_vbs_index_1,res_sig_mjjincl_vjet_index_0,res_sig_mjjincl_vjet_index_1,res_sig_mjjincl_Zvjets_0,res_sig_mjjincl_Zvjets_1,res_sig_mjjincl_Zlep,res_sig_mjjincl_Asym_vbs,res_sig_mjjincl_Asym_vjet,res_sig_mjjincl_Mw_lep_reco,res_sig_mjjincl_Mtw_lep,res_sig_mjjincl_w_lep_pt,res_sig_mjjincl_Mww,res_sig_mjjincl_R_ww,res_sig_mjjincl_R_mw,res_sig_mjjincl_A_ww,res_sig_mjjincl_Centr_vbs,res_sig_mjjincl_Centr_ww,res_sig_mjjincl_mll,res_sig_mjjincl_nvtx,res_sig_mjjincl_qgl\n",
      "aliases: \n",
      "weight: None\n",
      "--------------------------------------------------------------------------------\n",
      "name: boos_sig_mjjincl\n",
      "parent: supercut\n",
      "cut: VBS_category==0             && vjet_0_pt > 200             && mjj_vjet > 65 && mjj_vjet < 105             && bVeto             && mjj_vbs >=250             \n",
      "vars: boos_sig_mjjincl_events,boos_sig_mjjincl_Lepton_eta,boos_sig_mjjincl_Lepton_pt,boos_sig_mjjincl_Lepton_flavour,boos_sig_mjjincl_PuppiMET,boos_sig_mjjincl_PuppiMET_phi,boos_sig_mjjincl_MET_pt,boos_sig_mjjincl_mjj_vbs,boos_sig_mjjincl_deltaeta_vbs,boos_sig_mjjincl_mjj_vjet,boos_sig_mjjincl_vjet_0_pt,boos_sig_mjjincl_vjet_1_pt,boos_sig_mjjincl_vbs_etaprod,boos_sig_mjjincl_vbs_0_pt,boos_sig_mjjincl_vbs_1_pt,boos_sig_mjjincl_vbs_0_eta,boos_sig_mjjincl_vbs_1_eta,boos_sig_mjjincl_vjet_0_eta,boos_sig_mjjincl_vjet_1_eta,boos_sig_mjjincl_deltaphi_vbs,boos_sig_mjjincl_vbs_index_0,boos_sig_mjjincl_vbs_index_1,boos_sig_mjjincl_vjet_index_0,boos_sig_mjjincl_vjet_index_1,boos_sig_mjjincl_Zvjets_0,boos_sig_mjjincl_Zvjets_1,boos_sig_mjjincl_Zlep,boos_sig_mjjincl_Asym_vbs,boos_sig_mjjincl_Asym_vjet,boos_sig_mjjincl_Mw_lep_reco,boos_sig_mjjincl_Mtw_lep,boos_sig_mjjincl_w_lep_pt,boos_sig_mjjincl_Mww,boos_sig_mjjincl_R_ww,boos_sig_mjjincl_R_mw,boos_sig_mjjincl_A_ww,boos_sig_mjjincl_Centr_vbs,boos_sig_mjjincl_Centr_ww,boos_sig_mjjincl_mll,boos_sig_mjjincl_nvtx,boos_sig_mjjincl_qgl\n",
      "aliases: \n",
      "weight: None\n",
      "--------------------------------------------------------------------------------\n"
     ]
    },
    {
     "name": "stderr",
     "output_type": "stream",
     "text": [
      "/cvmfs/sft-nightlies.cern.ch/lcg/views/dev3python3/Wed/x86_64-centos7-gcc8-opt/lib/python3.7/site-packages/PyRDF/backend/Dist.py:315: UserWarning: Number of partitions is greater than number of clustersin the filelist\n",
      "Using 26 partition(s)\n",
      "  filelist, self.friend_info)\n"
     ]
    },
    {
     "name": "stdout",
     "output_type": "stream",
     "text": [
      "DY (0, 43)\n",
      "Tree: VBF-V\n",
      "name: supercut\n",
      "parent: None\n",
      "cut: (                   ( ( (abs(Lepton_pdgId[0])==11) && (Lepton_pt[0]>40) ) ||                     ( (abs(Lepton_pdgId[0])==13) && (Lepton_pt[0]>30) ) )                       && vbs_0_pt > 30 && vbs_1_pt > 30                     && deltaeta_vbs >= 2                      && PuppiMET_pt > 30                    )\n",
      "vars: \n",
      "aliases: bVeto,bReq,bVetoSF,bReqSF,btagSF\n",
      "weight: (XSWeight*puWeight*              TriggerEffWeight_1l*              Lepton_RecoSF[0]*              EMTFbug_veto*Lepton_tightElectron_mvaFall17V1Iso_WP90_IdIsoSF[0]*                Lepton_tightMuon_cut_Tight_HWWW_IdIsoSF[0]*(Lepton_isTightElectron_mvaFall17V1Iso_WP90[0]>0.5 || Lepton_isTightMuon_cut_Tight_HWWW[0]>0.5)* btagSF*METFilter_MC*Lepton_genmatched[0])\n",
      "--------------------------------------------------------------------------------\n",
      "name: res_sig_mjjincl\n",
      "parent: supercut\n",
      "cut: VBS_category==1             && vjet_0_pt > 30 && vjet_1_pt > 30             && mjj_vjet > 65 && mjj_vjet < 105             && bVeto             && mjj_vbs >=250             \n",
      "vars: res_sig_mjjincl_events,res_sig_mjjincl_Lepton_eta,res_sig_mjjincl_Lepton_pt,res_sig_mjjincl_Lepton_flavour,res_sig_mjjincl_PuppiMET,res_sig_mjjincl_PuppiMET_phi,res_sig_mjjincl_MET_pt,res_sig_mjjincl_mjj_vbs,res_sig_mjjincl_deltaeta_vbs,res_sig_mjjincl_mjj_vjet,res_sig_mjjincl_vjet_0_pt,res_sig_mjjincl_vjet_1_pt,res_sig_mjjincl_vbs_etaprod,res_sig_mjjincl_vbs_0_pt,res_sig_mjjincl_vbs_1_pt,res_sig_mjjincl_vbs_0_eta,res_sig_mjjincl_vbs_1_eta,res_sig_mjjincl_vjet_0_eta,res_sig_mjjincl_vjet_1_eta,res_sig_mjjincl_deltaphi_vbs,res_sig_mjjincl_vbs_index_0,res_sig_mjjincl_vbs_index_1,res_sig_mjjincl_vjet_index_0,res_sig_mjjincl_vjet_index_1,res_sig_mjjincl_Zvjets_0,res_sig_mjjincl_Zvjets_1,res_sig_mjjincl_Zlep,res_sig_mjjincl_Asym_vbs,res_sig_mjjincl_Asym_vjet,res_sig_mjjincl_Mw_lep_reco,res_sig_mjjincl_Mtw_lep,res_sig_mjjincl_w_lep_pt,res_sig_mjjincl_Mww,res_sig_mjjincl_R_ww,res_sig_mjjincl_R_mw,res_sig_mjjincl_A_ww,res_sig_mjjincl_Centr_vbs,res_sig_mjjincl_Centr_ww,res_sig_mjjincl_mll,res_sig_mjjincl_nvtx,res_sig_mjjincl_qgl\n",
      "aliases: \n",
      "weight: None\n",
      "--------------------------------------------------------------------------------\n",
      "name: boos_sig_mjjincl\n",
      "parent: supercut\n",
      "cut: VBS_category==0             && vjet_0_pt > 200             && mjj_vjet > 65 && mjj_vjet < 105             && bVeto             && mjj_vbs >=250             \n",
      "vars: boos_sig_mjjincl_events,boos_sig_mjjincl_Lepton_eta,boos_sig_mjjincl_Lepton_pt,boos_sig_mjjincl_Lepton_flavour,boos_sig_mjjincl_PuppiMET,boos_sig_mjjincl_PuppiMET_phi,boos_sig_mjjincl_MET_pt,boos_sig_mjjincl_mjj_vbs,boos_sig_mjjincl_deltaeta_vbs,boos_sig_mjjincl_mjj_vjet,boos_sig_mjjincl_vjet_0_pt,boos_sig_mjjincl_vjet_1_pt,boos_sig_mjjincl_vbs_etaprod,boos_sig_mjjincl_vbs_0_pt,boos_sig_mjjincl_vbs_1_pt,boos_sig_mjjincl_vbs_0_eta,boos_sig_mjjincl_vbs_1_eta,boos_sig_mjjincl_vjet_0_eta,boos_sig_mjjincl_vjet_1_eta,boos_sig_mjjincl_deltaphi_vbs,boos_sig_mjjincl_vbs_index_0,boos_sig_mjjincl_vbs_index_1,boos_sig_mjjincl_vjet_index_0,boos_sig_mjjincl_vjet_index_1,boos_sig_mjjincl_Zvjets_0,boos_sig_mjjincl_Zvjets_1,boos_sig_mjjincl_Zlep,boos_sig_mjjincl_Asym_vbs,boos_sig_mjjincl_Asym_vjet,boos_sig_mjjincl_Mw_lep_reco,boos_sig_mjjincl_Mtw_lep,boos_sig_mjjincl_w_lep_pt,boos_sig_mjjincl_Mww,boos_sig_mjjincl_R_ww,boos_sig_mjjincl_R_mw,boos_sig_mjjincl_A_ww,boos_sig_mjjincl_Centr_vbs,boos_sig_mjjincl_Centr_ww,boos_sig_mjjincl_mll,boos_sig_mjjincl_nvtx,boos_sig_mjjincl_qgl\n",
      "aliases: \n",
      "weight: None\n",
      "--------------------------------------------------------------------------------\n",
      "VBF-V (547, 43)\n"
     ]
    },
    {
     "name": "stderr",
     "output_type": "stream",
     "text": [
      "Warning in <TClass::Init>: no dictionary for class edm::Hash<1> is available\n",
      "Warning in <TClass::Init>: no dictionary for class edm::ProcessHistory is available\n",
      "Warning in <TClass::Init>: no dictionary for class edm::ProcessConfiguration is available\n",
      "Warning in <TClass::Init>: no dictionary for class edm::ParameterSetBlob is available\n",
      "Warning in <TClass::Init>: no dictionary for class pair<edm::Hash<1>,edm::ParameterSetBlob> is available\n"
     ]
    }
   ],
   "source": [
    "########\n",
    "dfs = {}\n",
    "for tree,_ in jobslist:\n",
    "        print(tree)\n",
    "        # Choose the right output columns\n",
    "        if sample == \"DATA\": outputcols = columns_DATA\n",
    "        else: outputcols = columns_MC\n",
    "\n",
    "        df = pd.DataFrame(tree[cut].rdf_node.AsNumpy(columns=outputcols))\n",
    "        print(tree.name, df.shape)\n",
    "        \n",
    "        if tree.name in dfs:\n",
    "            df.to_pickle(os.path.join(output_dir, tree.name + f\"_part{dfs[tree.name]+1}.pkl\"))\n",
    "            dfs[tree.name] +=1\n",
    "        else:\n",
    "            df.to_pickle(os.path.join(output_dir, tree.name +\"_part1.pkl\"))\n",
    "            dfs[tree.name] =1\n",
    "            \n",
    "        "
   ]
  },
  {
   "cell_type": "code",
   "execution_count": null,
   "metadata": {},
   "outputs": [],
   "source": []
  }
 ],
 "metadata": {
  "kernelspec": {
   "display_name": "Python 3",
   "language": "python",
   "name": "python3"
  },
  "language_info": {
   "codemirror_mode": {
    "name": "ipython",
    "version": 3
   },
   "file_extension": ".py",
   "mimetype": "text/x-python",
   "name": "python",
   "nbconvert_exporter": "python",
   "pygments_lexer": "ipython3",
   "version": "3.6.5"
  },
  "sparkconnect": {
   "bundled_options": [
    "SparkMetrics",
    "EnableS3",
    "ComputeIntensive",
    "LongRunningAnalysis",
    "MemoryIntensive"
   ],
   "list_of_options": [
    {
     "name": "spark.app.name",
     "value": "NanoAOD_PyRDF"
    },
    {
     "name": "spark.dynamicAllocation.enabled",
     "value": "False"
    },
    {
     "name": "spark.executor.instances",
     "value": "100"
    }
   ]
  },
  "toc": {
   "base_numbering": 1,
   "nav_menu": {},
   "number_sections": true,
   "sideBar": true,
   "skip_h1_title": false,
   "title_cell": "Table of Contents",
   "title_sidebar": "Contents",
   "toc_cell": false,
   "toc_position": {},
   "toc_section_display": true,
   "toc_window_display": false
  },
  "varInspector": {
   "cols": {
    "lenName": 16,
    "lenType": 16,
    "lenVar": 40
   },
   "kernels_config": {
    "python": {
     "delete_cmd_postfix": "",
     "delete_cmd_prefix": "del ",
     "library": "var_list.py",
     "varRefreshCmd": "print(var_dic_list())"
    },
    "r": {
     "delete_cmd_postfix": ") ",
     "delete_cmd_prefix": "rm(",
     "library": "var_list.r",
     "varRefreshCmd": "cat(var_dic_list()) "
    }
   },
   "types_to_exclude": [
    "module",
    "function",
    "builtin_function_or_method",
    "instance",
    "_Feature"
   ],
   "window_display": false
  }
 },
 "nbformat": 4,
 "nbformat_minor": 2
}
